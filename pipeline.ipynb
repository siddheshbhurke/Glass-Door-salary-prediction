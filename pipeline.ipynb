{
 "cells": [
  {
   "cell_type": "code",
   "execution_count": 14,
   "id": "4eb525a7-b176-43c3-908d-b993f6c3608c",
   "metadata": {},
   "outputs": [
    {
     "name": "stdout",
     "output_type": "stream",
     "text": [
      "✅ Preprocessing pipeline successfully saved!\n"
     ]
    }
   ],
   "source": [
    "import pandas as pd\n",
    "import numpy as np\n",
    "import joblib\n",
    "\n",
    "from sklearn.pipeline import Pipeline\n",
    "from sklearn.compose import ColumnTransformer\n",
    "from sklearn.preprocessing import OrdinalEncoder, StandardScaler\n",
    "\n",
    "# Load your full preprocessed dataset (without Unnamed: 0)\n",
    "df = pd.read_csv(\"final_X_for_pipeline2.csv\")\n",
    "\n",
    "# ✅ Completely remove 'Unnamed: 0' from your column list.\n",
    "# (it doesn't exist anymore)\n",
    "\n",
    "categorical_cols = [\n",
    "    'Job Title', 'Company Name', 'Location', 'Headquarters',\n",
    "    'Type of ownership', 'Industry', 'Sector', 'Revenue','job_state'\n",
    "]\n",
    "\n",
    "numerical_cols = [\n",
    "    'Unnamed: 0',\n",
    "    'Rating',\n",
    "    'Founded',\n",
    "    'competitor_count',\n",
    "    'company_age',\n",
    "    'min_salary',\n",
    "    'max_salary',\n",
    "    'size_num'\n",
    "]\n",
    "\n",
    "binary_cols = [\n",
    "    'python_yn', 'r_yn', 'sql_yn', 'aws_yn', 'azure_yn', 'spark_yn', 'hadoop_yn',\n",
    "    'excel_yn', 'tableau_yn', 'sas_yn', 'docker_yn', 'kubernetes_yn',\n",
    "    'security_clearance', 'phd_yn', 'masters_yn', 'bachelors_yn'\n",
    "]\n",
    "\n",
    "# Create pipelines for each type of feature\n",
    "\n",
    "from sklearn.preprocessing import OneHotEncoder\n",
    "\n",
    "categorical_pipeline = Pipeline([\n",
    "    (\"onehot_encoder\", OneHotEncoder(handle_unknown='ignore', sparse_output=False))\n",
    "])\n",
    "\n",
    "numerical_pipeline = Pipeline([\n",
    "    (\"scaler\", StandardScaler())\n",
    "])\n",
    "\n",
    "preprocessor = ColumnTransformer([\n",
    "    (\"cat\", categorical_pipeline, categorical_cols),\n",
    "    (\"num\", numerical_pipeline, numerical_cols),\n",
    "    (\"bin\", \"passthrough\", binary_cols)\n",
    "])\n",
    "\n",
    "# ✅ Fit the pipeline on full data\n",
    "preprocessor.fit(df)\n",
    "\n",
    "# ✅ Save the pipeline for future use\n",
    "joblib.dump(preprocessor, \"preprocessing_pipeline_final.pkl\")\n",
    "\n",
    "print(\"✅ Preprocessing pipeline successfully saved!\")\n"
   ]
  },
  {
   "cell_type": "code",
   "execution_count": null,
   "id": "1b325492-d6ad-4958-affd-d4656b6f7647",
   "metadata": {},
   "outputs": [],
   "source": []
  }
 ],
 "metadata": {
  "kernelspec": {
   "display_name": "Python 3 (ipykernel)",
   "language": "python",
   "name": "python3"
  },
  "language_info": {
   "codemirror_mode": {
    "name": "ipython",
    "version": 3
   },
   "file_extension": ".py",
   "mimetype": "text/x-python",
   "name": "python",
   "nbconvert_exporter": "python",
   "pygments_lexer": "ipython3",
   "version": "3.12.5"
  }
 },
 "nbformat": 4,
 "nbformat_minor": 5
}
